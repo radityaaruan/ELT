{
 "cells": [
  {
   "cell_type": "code",
   "execution_count": null,
   "id": "957f9310",
   "metadata": {},
   "outputs": [
    {
     "name": "stderr",
     "output_type": "stream",
     "text": [
      "Setting default log level to \"WARN\".\n",
      "To adjust logging level use sc.setLogLevel(newLevel). For SparkR, use setLogLevel(newLevel).\n"
     ]
    },
    {
     "name": "stdout",
     "output_type": "stream",
     "text": [
      "25/07/07 08:16:38 WARN NativeCodeLoader: Unable to load native-hadoop library for your platform... using builtin-java classes where applicable\n",
      "25/07/07 08:16:39 WARN Utils: Service 'SparkUI' could not bind on port 4040. Attempting port 4041.\n",
      "+------------+---------+------+------------+-----------------+\n",
      "|id_transaksi|id_produk|jumlah|harga_satuan|tanggal_transaksi|\n",
      "+------------+---------+------+------------+-----------------+\n",
      "|      TRX001|   PROD-A|   3.0|     86653.0|       2025-07-03|\n",
      "|      TRX002|   PROD-B|   8.0|     27843.0|       2025-07-03|\n",
      "|      TRX003|   PROD-C|   8.0|     73726.0|       2025-07-03|\n",
      "|      TRX004|   PROD-A|  null|     39648.0|       2025-07-03|\n",
      "|      TRX005|   PROD-B|   4.0|     18049.0|       2025-07-03|\n",
      "|      TRX006|   prod-a|  10.0|     38823.0|       2025-07-03|\n",
      "|      TRX007|   PROD-A|   7.0|     51941.0|       2025-07-03|\n",
      "|      TRX008|   PROD-B|   2.0|     70892.0|       2025-07-03|\n",
      "|      TRX009|   PROD-C|   5.0|     62747.0|       2025-07-03|\n",
      "|      TRX010|   PROD-A|   1.0|     61061.0|       2025-07-03|\n",
      "|      TRX011|   prod-b|   1.0|     85426.0|       2025-07-03|\n",
      "|      TRX012|   PROD-C|   6.0|     82953.0|       2025-07-03|\n",
      "|      TRX013|   PROD-A|  null|     51926.0|       2025-07-03|\n",
      "|      TRX014|   PROD-B|   8.0|     22260.0|       2025-07-03|\n",
      "|      TRX015|   PROD-C|   1.0|     11207.0|       2025-07-03|\n",
      "|      TRX016|   prod-c|   8.0|     75572.0|       2025-07-03|\n",
      "|      TRX017|   PROD-B|   1.0|     97148.0|       2025-07-03|\n",
      "|      TRX018|   PROD-C|   1.0|     89048.0|       2025-07-03|\n",
      "|      TRX019|   PROD-A|   1.0|     12867.0|       2025-07-03|\n",
      "|      TRX020|   PROD-B|   7.0|     73586.0|       2025-07-03|\n",
      "+------------+---------+------+------------+-----------------+\n",
      "only showing top 20 rows\n",
      "\n"
     ]
    }
   ],
   "source": [
    "import os\n",
    "from pyspark.sql import SparkSession\n",
    "from pyspark.sql.types import StructType, StructField, StringType, FloatType\n",
    "from pyspark.sql.functions import to_date\n",
    "\n",
    "# Set JAVA_HOME (penting untuk Mac Intel)\n",
    "os.environ[\"JAVA_HOME\"] = \"/usr/local/opt/openjdk@11\"\n",
    "\n",
    "# Inisialisasi Spark\n",
    "import findspark\n",
    "findspark.init()\n",
    "\n",
    "spark = SparkSession.builder.appName(\"Silver_ETL_Penjualan\").getOrCreate()\n",
    "\n",
    "# Definisikan schema untuk memastikan tipe data sesuai (biar siap ke data warehouse)\n",
    "schema = StructType([\n",
    "    StructField(\"id_transaksi\", StringType(), True),\n",
    "    StructField(\"id_produk\", StringType(), True),\n",
    "    StructField(\"jumlah\", FloatType(), True),\n",
    "    StructField(\"harga_satuan\", FloatType(), True),\n",
    "    StructField(\"tanggal_transaksi\", StringType(), True)  # sementara masih string\n",
    "])\n",
    "\n",
    "# Load data mentah dengan schema yang sudah ditentukan\n",
    "df_raw = spark.read.option(\"header\", True).schema(schema).csv(\"penjualan_2025-07-03.csv\")\n",
    "\n",
    "# Convert tanggal_transaksi jadi format date (YYYY-MM-DD)\n",
    "df_silver = df_raw.withColumn(\"tanggal_transaksi\", to_date(\"tanggal_transaksi\", \"dd-MM-yyyy\"))\n",
    "\n",
    "# Preview hasil silver\n",
    "#df_silver.printSchema()\n",
    "df_silver.show()\n"
   ]
  },
  {
   "cell_type": "code",
   "execution_count": 5,
   "id": "98847727",
   "metadata": {},
   "outputs": [
    {
     "name": "stdout",
     "output_type": "stream",
     "text": [
      "+------------+---------+------+------------+-----------+-----------------+\n",
      "|id_transaksi|id_produk|jumlah|harga_satuan|total_harga|tanggal_transaksi|\n",
      "+------------+---------+------+------------+-----------+-----------------+\n",
      "|      TRX001|   PROD-A|     3|       86653|     259959|       2025-07-03|\n",
      "|      TRX002|   PROD-B|     8|       27843|     222744|       2025-07-03|\n",
      "|      TRX003|   PROD-C|     8|       73726|     589808|       2025-07-03|\n",
      "|      TRX004|   PROD-A|     0|       39648|          0|       2025-07-03|\n",
      "|      TRX005|   PROD-B|     4|       18049|      72196|       2025-07-03|\n",
      "|      TRX006|   PROD-A|    10|       38823|     388230|       2025-07-03|\n",
      "|      TRX007|   PROD-A|     7|       51941|     363587|       2025-07-03|\n",
      "|      TRX008|   PROD-B|     2|       70892|     141784|       2025-07-03|\n",
      "|      TRX009|   PROD-C|     5|       62747|     313735|       2025-07-03|\n",
      "|      TRX010|   PROD-A|     1|       61061|      61061|       2025-07-03|\n",
      "|      TRX011|   PROD-B|     1|       85426|      85426|       2025-07-03|\n",
      "|      TRX012|   PROD-C|     6|       82953|     497718|       2025-07-03|\n",
      "|      TRX013|   PROD-A|     0|       51926|          0|       2025-07-03|\n",
      "|      TRX014|   PROD-B|     8|       22260|     178080|       2025-07-03|\n",
      "|      TRX015|   PROD-C|     1|       11207|      11207|       2025-07-03|\n",
      "|      TRX016|   PROD-C|     8|       75572|     604576|       2025-07-03|\n",
      "|      TRX017|   PROD-B|     1|       97148|      97148|       2025-07-03|\n",
      "|      TRX018|   PROD-C|     1|       89048|      89048|       2025-07-03|\n",
      "|      TRX019|   PROD-A|     1|       12867|      12867|       2025-07-03|\n",
      "|      TRX020|   PROD-B|     7|       73586|     515102|       2025-07-03|\n",
      "+------------+---------+------+------------+-----------+-----------------+\n",
      "only showing top 20 rows\n",
      "\n"
     ]
    }
   ],
   "source": [
    "from pyspark.sql.functions import col, upper\n",
    "from pyspark.sql.types import IntegerType\n",
    "\n",
    "# Transformasi Bronze dari df_silver\n",
    "df_bronze = (\n",
    "    df_silver\n",
    "    # Seragamkan id_produk jadi huruf kapital\n",
    "    .withColumn(\"id_produk\", upper(col(\"id_produk\")))\n",
    "    # Ubah jumlah ke IntegerType\n",
    "    .withColumn(\"jumlah\", col(\"jumlah\").cast(IntegerType()))\n",
    "    # Ubah harga_satuan ke IntegerType\n",
    "    .withColumn(\"harga_satuan\", col(\"harga_satuan\").cast(IntegerType()))\n",
    "    # Tambahkan kolom total_harga = jumlah * harga_satuan\n",
    "    .withColumn(\"total_harga\", (col(\"jumlah\") * col(\"harga_satuan\")).cast(IntegerType()))\n",
    "    # Isi semua kolom null (string -> \"\", angka -> 0, tanggal -> default)\n",
    "    .fillna({\n",
    "        \"id_transaksi\": \"\",\n",
    "        \"id_produk\": \"\",\n",
    "        \"jumlah\": 0,\n",
    "        \"harga_satuan\": 0,\n",
    "        \"total_harga\": 0,\n",
    "        \"tanggal_transaksi\": \"1970-01-01\"\n",
    "    })\n",
    ")\n",
    "\n",
    "# Urutkan kolom biar tanggal_transaksi paling kanan\n",
    "df_bronze = df_bronze.select(\n",
    "    \"id_transaksi\",\n",
    "    \"id_produk\",\n",
    "    \"jumlah\",\n",
    "    \"harga_satuan\",\n",
    "    \"total_harga\",\n",
    "    \"tanggal_transaksi\"\n",
    ")\n",
    "\n",
    "# Tampilkan schema dan isi data\n",
    "#df_bronze.printSchema()\n",
    "df_bronze.show()\n"
   ]
  }
 ],
 "metadata": {
  "kernelspec": {
   "display_name": "base",
   "language": "python",
   "name": "python3"
  },
  "language_info": {
   "codemirror_mode": {
    "name": "ipython",
    "version": 3
   },
   "file_extension": ".py",
   "mimetype": "text/x-python",
   "name": "python",
   "nbconvert_exporter": "python",
   "pygments_lexer": "ipython3",
   "version": "3.9.19"
  }
 },
 "nbformat": 4,
 "nbformat_minor": 5
}
